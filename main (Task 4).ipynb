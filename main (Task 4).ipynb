{
  "nbformat": 4,
  "nbformat_minor": 0,
  "metadata": {
    "colab": {
      "name": "main.ipynb",
      "provenance": [],
      "collapsed_sections": []
    },
    "kernelspec": {
      "name": "python3",
      "display_name": "Python 3"
    },
    "language_info": {
      "name": "python"
    }
  },
  "cells": [
    {
      "cell_type": "code",
      "metadata": {
        "id": "_fpyMDiNKcD7"
      },
      "source": [
        "from google.colab import drive\n",
        "drive.mount('/content/drive')"
      ],
      "execution_count": null,
      "outputs": []
    },
    {
      "cell_type": "code",
      "metadata": {
        "id": "sXp6TO5bZ8Dg"
      },
      "source": [
        "cd /content/drive/MyDrive/Yolo #directory of drive folder where all important files for project are uploaded"
      ],
      "execution_count": null,
      "outputs": []
    },
    {
      "cell_type": "code",
      "metadata": {
        "id": "iO12u2A8Vxc_"
      },
      "source": [
        "!git clone https://github.com/ultralytics/yolov5  # clones the GitHub YOLOv5 repository\n",
        "%cd yolov5\n",
        "%pip install -qr requirements.txt  "
      ],
      "execution_count": null,
      "outputs": []
    },
    {
      "cell_type": "code",
      "metadata": {
        "id": "XOW61-8NY3Mb"
      },
      "source": [
        "!python train.py --img 640 --batch 16 --epochs 200 --data custom.yaml --weights yolov5s.pt --cache \n",
        "#train and validate model. custom_coco.yaml files contains directory of train and test images, as well as name and number of classes\n"
      ],
      "execution_count": null,
      "outputs": []
    }
  ]
}
